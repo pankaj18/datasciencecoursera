{
 "cells": [
  {
   "cell_type": "markdown",
   "metadata": {
    "collapsed": true
   },
   "source": [
    "# Learning markdown\n",
    "## basic markdown commands\n",
    "### images and links\n",
    "#### lists and table\n",
    "##### equation"
   ]
  },
  {
   "cell_type": "markdown",
   "metadata": {},
   "source": [
    "You can Learn Markdown [1] [2]\n",
    "\n",
    "[1]: https://github.com/adam-p/markdown-here/wiki/Markdown-Cheatsheet\n",
    "[2]: https://guides.github.com/features/mastering-markdown/"
   ]
  },
  {
   "cell_type": "markdown",
   "metadata": {},
   "source": []
  },
  {
   "cell_type": "markdown",
   "metadata": {},
   "source": [
    "[open google webpage](www.google.com)"
   ]
  },
  {
   "cell_type": "markdown",
   "metadata": {},
   "source": [
    "Google logo appears as\n",
    "![google logo](https://www.google.co.in/images/branding/googlelogo/1x/googlelogo_color_272x92dp.png)"
   ]
  },
  {
   "cell_type": "markdown",
   "metadata": {},
   "source": [
    "search youtube and browse videos by clicking on photo\n",
    "[![Meet this guy Andrew](https://miro.medium.com/max/1400/1*pQJcLGv6TXejEE76Mbf_7A.jpeg)](https://youtube.com/watch?v4kiHsIaK9_w)"
   ]
  },
  {
   "cell_type": "markdown",
   "metadata": {},
   "source": [
    "Table\n",
    "\n",
    "Shahrukh|Salman\n",
    "-----------|----------\n",
    "Main Hu Naa|Hum Saath Saath Hai\n",
    "DDLJ|Maine pyaar Kiya\n",
    "Veer Zaara|Bajarangi bhaijaan\n",
    "Mannat|Galaxy\n"
   ]
  },
  {
   "cell_type": "markdown",
   "metadata": {},
   "source": [
    "Python Code:\n",
    "```\n",
    "print(\"hello world!\")\n",
    "def superstar(name):\n",
    "    if name==\"nut\":\n",
    "        return True\n",
    "\n",
    "```"
   ]
  },
  {
   "cell_type": "markdown",
   "metadata": {},
   "source": [
    "Data Scientist :\n",
    "1. Python\n",
    "2. R\n",
    "3. Probability and Statistics\n",
    "4. Linear Algebra\n",
    "\n"
   ]
  },
  {
   "cell_type": "code",
   "execution_count": null,
   "metadata": {},
   "outputs": [],
   "source": []
  }
 ],
 "metadata": {
  "kernelspec": {
   "display_name": "Python 3.6",
   "language": "python",
   "name": "python3"
  },
  "language_info": {
   "codemirror_mode": {
    "name": "ipython",
    "version": 3
   },
   "file_extension": ".py",
   "mimetype": "text/x-python",
   "name": "python",
   "nbconvert_exporter": "python",
   "pygments_lexer": "ipython3",
   "version": "3.6.9"
  }
 },
 "nbformat": 4,
 "nbformat_minor": 1
}
